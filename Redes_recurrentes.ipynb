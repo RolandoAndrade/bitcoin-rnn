{
  "nbformat": 4,
  "nbformat_minor": 0,
  "metadata": {
    "colab": {
      "provenance": [],
      "gpuType": "T4",
      "toc_visible": true
    },
    "kernelspec": {
      "name": "python3",
      "display_name": "Python 3"
    },
    "language_info": {
      "name": "python"
    },
    "accelerator": "GPU"
  },
  "cells": [
    {
      "cell_type": "markdown",
      "source": [
        "# Análisis bursátil"
      ],
      "metadata": {
        "id": "RFrtB5X5rAFe"
      }
    },
    {
      "cell_type": "markdown",
      "source": [
        "# Temas a tratar\n",
        "\n",
        "- Redes recurrentes.\n",
        "- Uso de YahooFinance.\n",
        "- Análisis de series temporales.\n",
        "- Transformación de datos.\n",
        "- Preprocesamiento para series temporales.\n",
        "- LSTMs.\n"
      ],
      "metadata": {
        "id": "tvB90NYB6fTz"
      }
    },
    {
      "cell_type": "markdown",
      "source": [
        "# Problema\n",
        "\n",
        "Bitcoin, la criptomoneda más conocida y de mayor capitalización de mercado, ha experimentado una volatilidad significativa en su precio a lo largo de los años. Esta volatilidad hace que sea difícil de predecir con precisión el precio futuro de Bitcoin, lo que presenta un desafío para los inversores y comerciantes que buscan aprovechar las oportunidades en este mercado."
      ],
      "metadata": {
        "id": "rOS8usGS7DCr"
      }
    },
    {
      "cell_type": "markdown",
      "source": [
        "# Solución\n",
        "\n",
        "Crear un modelo de IA que logre predecir las fluctuaciones de precio a lo largo del tiempo."
      ],
      "metadata": {
        "id": "WQZPvN4L7bEy"
      }
    },
    {
      "cell_type": "markdown",
      "source": [
        "# Objetivo\n",
        "\n",
        "El objetivo de este proyecto es desarrollar un modelo de aprendizaje profundo basado en una red neuronal recurrente de tipo LSTM (Long Short-Term Memory) que pueda analizar eficazmente los patrones históricos del precio de Bitcoin y realizar predicciones más precisas sobre su comportamiento futuro."
      ],
      "metadata": {
        "id": "wlikzLDh7She"
      }
    },
    {
      "cell_type": "markdown",
      "source": [
        "# Desarrollo"
      ],
      "metadata": {
        "id": "Yo4vXSyI7YOu"
      }
    },
    {
      "cell_type": "markdown",
      "source": [
        "## Análisis y preprocesamiento de datos"
      ],
      "metadata": {
        "id": "4js9b0pa7nzm"
      }
    },
    {
      "cell_type": "markdown",
      "source": [
        "### Análisis de datos"
      ],
      "metadata": {
        "id": "oCZ5rNPy7sA4"
      }
    },
    {
      "cell_type": "markdown",
      "source": [
        "Para este caso usaremos datos reales extraídos de [YahooFinance](https://pypi.org/project/yfinance/), la forma más sencilla de obtener los valores de las acciones más relevantes de la actualidad financiera.\n",
        "\n",
        "Para este caso descargamos el precio de bitcoin desde el 1ro de enero de 2015 hasta el primero de enero de 2024"
      ],
      "metadata": {
        "id": "Er98DRoE7u8W"
      }
    },
    {
      "cell_type": "code",
      "source": [
        "import pandas as pd\n",
        "import yfinance as yf\n",
        "\n",
        "from_date = '2015-01-01'\n",
        "to_date = '2024-01-01'\n",
        "\n",
        "df = yf.download('BTC-USD', start=from_date, end=to_date)\n",
        "df.head()"
      ],
      "metadata": {
        "colab": {
          "base_uri": "https://localhost:8080/",
          "height": 255
        },
        "id": "BRtrEyDPwVhP",
        "outputId": "d5b1fbf8-980b-4191-bd91-19ca55f7f664"
      },
      "execution_count": 2,
      "outputs": [
        {
          "output_type": "stream",
          "name": "stderr",
          "text": [
            "\r[*********************100%%**********************]  1 of 1 completed\n"
          ]
        },
        {
          "output_type": "execute_result",
          "data": {
            "text/plain": [
              "                  Open        High         Low       Close   Adj Close  \\\n",
              "Date                                                                     \n",
              "2015-01-01  320.434998  320.434998  314.002991  314.248993  314.248993   \n",
              "2015-01-02  314.079010  315.838989  313.565002  315.032013  315.032013   \n",
              "2015-01-03  314.846008  315.149994  281.082001  281.082001  281.082001   \n",
              "2015-01-04  281.145996  287.230011  257.612000  264.195007  264.195007   \n",
              "2015-01-05  265.084015  278.341003  265.084015  274.473999  274.473999   \n",
              "\n",
              "              Volume  \n",
              "Date                  \n",
              "2015-01-01   8036550  \n",
              "2015-01-02   7860650  \n",
              "2015-01-03  33054400  \n",
              "2015-01-04  55629100  \n",
              "2015-01-05  43962800  "
            ],
            "text/html": [
              "\n",
              "  <div id=\"df-9a462e89-72e8-47f4-bc53-e5c36dfef4e0\" class=\"colab-df-container\">\n",
              "    <div>\n",
              "<style scoped>\n",
              "    .dataframe tbody tr th:only-of-type {\n",
              "        vertical-align: middle;\n",
              "    }\n",
              "\n",
              "    .dataframe tbody tr th {\n",
              "        vertical-align: top;\n",
              "    }\n",
              "\n",
              "    .dataframe thead th {\n",
              "        text-align: right;\n",
              "    }\n",
              "</style>\n",
              "<table border=\"1\" class=\"dataframe\">\n",
              "  <thead>\n",
              "    <tr style=\"text-align: right;\">\n",
              "      <th></th>\n",
              "      <th>Open</th>\n",
              "      <th>High</th>\n",
              "      <th>Low</th>\n",
              "      <th>Close</th>\n",
              "      <th>Adj Close</th>\n",
              "      <th>Volume</th>\n",
              "    </tr>\n",
              "    <tr>\n",
              "      <th>Date</th>\n",
              "      <th></th>\n",
              "      <th></th>\n",
              "      <th></th>\n",
              "      <th></th>\n",
              "      <th></th>\n",
              "      <th></th>\n",
              "    </tr>\n",
              "  </thead>\n",
              "  <tbody>\n",
              "    <tr>\n",
              "      <th>2015-01-01</th>\n",
              "      <td>320.434998</td>\n",
              "      <td>320.434998</td>\n",
              "      <td>314.002991</td>\n",
              "      <td>314.248993</td>\n",
              "      <td>314.248993</td>\n",
              "      <td>8036550</td>\n",
              "    </tr>\n",
              "    <tr>\n",
              "      <th>2015-01-02</th>\n",
              "      <td>314.079010</td>\n",
              "      <td>315.838989</td>\n",
              "      <td>313.565002</td>\n",
              "      <td>315.032013</td>\n",
              "      <td>315.032013</td>\n",
              "      <td>7860650</td>\n",
              "    </tr>\n",
              "    <tr>\n",
              "      <th>2015-01-03</th>\n",
              "      <td>314.846008</td>\n",
              "      <td>315.149994</td>\n",
              "      <td>281.082001</td>\n",
              "      <td>281.082001</td>\n",
              "      <td>281.082001</td>\n",
              "      <td>33054400</td>\n",
              "    </tr>\n",
              "    <tr>\n",
              "      <th>2015-01-04</th>\n",
              "      <td>281.145996</td>\n",
              "      <td>287.230011</td>\n",
              "      <td>257.612000</td>\n",
              "      <td>264.195007</td>\n",
              "      <td>264.195007</td>\n",
              "      <td>55629100</td>\n",
              "    </tr>\n",
              "    <tr>\n",
              "      <th>2015-01-05</th>\n",
              "      <td>265.084015</td>\n",
              "      <td>278.341003</td>\n",
              "      <td>265.084015</td>\n",
              "      <td>274.473999</td>\n",
              "      <td>274.473999</td>\n",
              "      <td>43962800</td>\n",
              "    </tr>\n",
              "  </tbody>\n",
              "</table>\n",
              "</div>\n",
              "    <div class=\"colab-df-buttons\">\n",
              "\n",
              "  <div class=\"colab-df-container\">\n",
              "    <button class=\"colab-df-convert\" onclick=\"convertToInteractive('df-9a462e89-72e8-47f4-bc53-e5c36dfef4e0')\"\n",
              "            title=\"Convert this dataframe to an interactive table.\"\n",
              "            style=\"display:none;\">\n",
              "\n",
              "  <svg xmlns=\"http://www.w3.org/2000/svg\" height=\"24px\" viewBox=\"0 -960 960 960\">\n",
              "    <path d=\"M120-120v-720h720v720H120Zm60-500h600v-160H180v160Zm220 220h160v-160H400v160Zm0 220h160v-160H400v160ZM180-400h160v-160H180v160Zm440 0h160v-160H620v160ZM180-180h160v-160H180v160Zm440 0h160v-160H620v160Z\"/>\n",
              "  </svg>\n",
              "    </button>\n",
              "\n",
              "  <style>\n",
              "    .colab-df-container {\n",
              "      display:flex;\n",
              "      gap: 12px;\n",
              "    }\n",
              "\n",
              "    .colab-df-convert {\n",
              "      background-color: #E8F0FE;\n",
              "      border: none;\n",
              "      border-radius: 50%;\n",
              "      cursor: pointer;\n",
              "      display: none;\n",
              "      fill: #1967D2;\n",
              "      height: 32px;\n",
              "      padding: 0 0 0 0;\n",
              "      width: 32px;\n",
              "    }\n",
              "\n",
              "    .colab-df-convert:hover {\n",
              "      background-color: #E2EBFA;\n",
              "      box-shadow: 0px 1px 2px rgba(60, 64, 67, 0.3), 0px 1px 3px 1px rgba(60, 64, 67, 0.15);\n",
              "      fill: #174EA6;\n",
              "    }\n",
              "\n",
              "    .colab-df-buttons div {\n",
              "      margin-bottom: 4px;\n",
              "    }\n",
              "\n",
              "    [theme=dark] .colab-df-convert {\n",
              "      background-color: #3B4455;\n",
              "      fill: #D2E3FC;\n",
              "    }\n",
              "\n",
              "    [theme=dark] .colab-df-convert:hover {\n",
              "      background-color: #434B5C;\n",
              "      box-shadow: 0px 1px 3px 1px rgba(0, 0, 0, 0.15);\n",
              "      filter: drop-shadow(0px 1px 2px rgba(0, 0, 0, 0.3));\n",
              "      fill: #FFFFFF;\n",
              "    }\n",
              "  </style>\n",
              "\n",
              "    <script>\n",
              "      const buttonEl =\n",
              "        document.querySelector('#df-9a462e89-72e8-47f4-bc53-e5c36dfef4e0 button.colab-df-convert');\n",
              "      buttonEl.style.display =\n",
              "        google.colab.kernel.accessAllowed ? 'block' : 'none';\n",
              "\n",
              "      async function convertToInteractive(key) {\n",
              "        const element = document.querySelector('#df-9a462e89-72e8-47f4-bc53-e5c36dfef4e0');\n",
              "        const dataTable =\n",
              "          await google.colab.kernel.invokeFunction('convertToInteractive',\n",
              "                                                    [key], {});\n",
              "        if (!dataTable) return;\n",
              "\n",
              "        const docLinkHtml = 'Like what you see? Visit the ' +\n",
              "          '<a target=\"_blank\" href=https://colab.research.google.com/notebooks/data_table.ipynb>data table notebook</a>'\n",
              "          + ' to learn more about interactive tables.';\n",
              "        element.innerHTML = '';\n",
              "        dataTable['output_type'] = 'display_data';\n",
              "        await google.colab.output.renderOutput(dataTable, element);\n",
              "        const docLink = document.createElement('div');\n",
              "        docLink.innerHTML = docLinkHtml;\n",
              "        element.appendChild(docLink);\n",
              "      }\n",
              "    </script>\n",
              "  </div>\n",
              "\n",
              "\n",
              "<div id=\"df-37dcc50b-005e-40b0-b262-f618613bf281\">\n",
              "  <button class=\"colab-df-quickchart\" onclick=\"quickchart('df-37dcc50b-005e-40b0-b262-f618613bf281')\"\n",
              "            title=\"Suggest charts\"\n",
              "            style=\"display:none;\">\n",
              "\n",
              "<svg xmlns=\"http://www.w3.org/2000/svg\" height=\"24px\"viewBox=\"0 0 24 24\"\n",
              "     width=\"24px\">\n",
              "    <g>\n",
              "        <path d=\"M19 3H5c-1.1 0-2 .9-2 2v14c0 1.1.9 2 2 2h14c1.1 0 2-.9 2-2V5c0-1.1-.9-2-2-2zM9 17H7v-7h2v7zm4 0h-2V7h2v10zm4 0h-2v-4h2v4z\"/>\n",
              "    </g>\n",
              "</svg>\n",
              "  </button>\n",
              "\n",
              "<style>\n",
              "  .colab-df-quickchart {\n",
              "      --bg-color: #E8F0FE;\n",
              "      --fill-color: #1967D2;\n",
              "      --hover-bg-color: #E2EBFA;\n",
              "      --hover-fill-color: #174EA6;\n",
              "      --disabled-fill-color: #AAA;\n",
              "      --disabled-bg-color: #DDD;\n",
              "  }\n",
              "\n",
              "  [theme=dark] .colab-df-quickchart {\n",
              "      --bg-color: #3B4455;\n",
              "      --fill-color: #D2E3FC;\n",
              "      --hover-bg-color: #434B5C;\n",
              "      --hover-fill-color: #FFFFFF;\n",
              "      --disabled-bg-color: #3B4455;\n",
              "      --disabled-fill-color: #666;\n",
              "  }\n",
              "\n",
              "  .colab-df-quickchart {\n",
              "    background-color: var(--bg-color);\n",
              "    border: none;\n",
              "    border-radius: 50%;\n",
              "    cursor: pointer;\n",
              "    display: none;\n",
              "    fill: var(--fill-color);\n",
              "    height: 32px;\n",
              "    padding: 0;\n",
              "    width: 32px;\n",
              "  }\n",
              "\n",
              "  .colab-df-quickchart:hover {\n",
              "    background-color: var(--hover-bg-color);\n",
              "    box-shadow: 0 1px 2px rgba(60, 64, 67, 0.3), 0 1px 3px 1px rgba(60, 64, 67, 0.15);\n",
              "    fill: var(--button-hover-fill-color);\n",
              "  }\n",
              "\n",
              "  .colab-df-quickchart-complete:disabled,\n",
              "  .colab-df-quickchart-complete:disabled:hover {\n",
              "    background-color: var(--disabled-bg-color);\n",
              "    fill: var(--disabled-fill-color);\n",
              "    box-shadow: none;\n",
              "  }\n",
              "\n",
              "  .colab-df-spinner {\n",
              "    border: 2px solid var(--fill-color);\n",
              "    border-color: transparent;\n",
              "    border-bottom-color: var(--fill-color);\n",
              "    animation:\n",
              "      spin 1s steps(1) infinite;\n",
              "  }\n",
              "\n",
              "  @keyframes spin {\n",
              "    0% {\n",
              "      border-color: transparent;\n",
              "      border-bottom-color: var(--fill-color);\n",
              "      border-left-color: var(--fill-color);\n",
              "    }\n",
              "    20% {\n",
              "      border-color: transparent;\n",
              "      border-left-color: var(--fill-color);\n",
              "      border-top-color: var(--fill-color);\n",
              "    }\n",
              "    30% {\n",
              "      border-color: transparent;\n",
              "      border-left-color: var(--fill-color);\n",
              "      border-top-color: var(--fill-color);\n",
              "      border-right-color: var(--fill-color);\n",
              "    }\n",
              "    40% {\n",
              "      border-color: transparent;\n",
              "      border-right-color: var(--fill-color);\n",
              "      border-top-color: var(--fill-color);\n",
              "    }\n",
              "    60% {\n",
              "      border-color: transparent;\n",
              "      border-right-color: var(--fill-color);\n",
              "    }\n",
              "    80% {\n",
              "      border-color: transparent;\n",
              "      border-right-color: var(--fill-color);\n",
              "      border-bottom-color: var(--fill-color);\n",
              "    }\n",
              "    90% {\n",
              "      border-color: transparent;\n",
              "      border-bottom-color: var(--fill-color);\n",
              "    }\n",
              "  }\n",
              "</style>\n",
              "\n",
              "  <script>\n",
              "    async function quickchart(key) {\n",
              "      const quickchartButtonEl =\n",
              "        document.querySelector('#' + key + ' button');\n",
              "      quickchartButtonEl.disabled = true;  // To prevent multiple clicks.\n",
              "      quickchartButtonEl.classList.add('colab-df-spinner');\n",
              "      try {\n",
              "        const charts = await google.colab.kernel.invokeFunction(\n",
              "            'suggestCharts', [key], {});\n",
              "      } catch (error) {\n",
              "        console.error('Error during call to suggestCharts:', error);\n",
              "      }\n",
              "      quickchartButtonEl.classList.remove('colab-df-spinner');\n",
              "      quickchartButtonEl.classList.add('colab-df-quickchart-complete');\n",
              "    }\n",
              "    (() => {\n",
              "      let quickchartButtonEl =\n",
              "        document.querySelector('#df-37dcc50b-005e-40b0-b262-f618613bf281 button');\n",
              "      quickchartButtonEl.style.display =\n",
              "        google.colab.kernel.accessAllowed ? 'block' : 'none';\n",
              "    })();\n",
              "  </script>\n",
              "</div>\n",
              "\n",
              "    </div>\n",
              "  </div>\n"
            ],
            "application/vnd.google.colaboratory.intrinsic+json": {
              "type": "dataframe",
              "variable_name": "df",
              "summary": "{\n  \"name\": \"df\",\n  \"rows\": 3287,\n  \"fields\": [\n    {\n      \"column\": \"Date\",\n      \"properties\": {\n        \"dtype\": \"date\",\n        \"min\": \"2015-01-01 00:00:00\",\n        \"max\": \"2023-12-31 00:00:00\",\n        \"num_unique_values\": 3287,\n        \"samples\": [\n          \"2021-01-20 00:00:00\",\n          \"2016-11-01 00:00:00\",\n          \"2021-03-13 00:00:00\"\n        ],\n        \"semantic_type\": \"\",\n        \"description\": \"\"\n      }\n    },\n    {\n      \"column\": \"Open\",\n      \"properties\": {\n        \"dtype\": \"number\",\n        \"std\": 16240.295311846454,\n        \"min\": 176.89700317382812,\n        \"max\": 67549.734375,\n        \"num_unique_values\": 3284,\n        \"samples\": [\n          36050.11328125,\n          13948.7001953125,\n          9471.2138671875\n        ],\n        \"semantic_type\": \"\",\n        \"description\": \"\"\n      }\n    },\n    {\n      \"column\": \"High\",\n      \"properties\": {\n        \"dtype\": \"number\",\n        \"std\": 16630.177155889985,\n        \"min\": 211.7310028076172,\n        \"max\": 68789.625,\n        \"num_unique_values\": 3284,\n        \"samples\": [\n          36378.328125,\n          15943.400390625,\n          9963.134765625\n        ],\n        \"semantic_type\": \"\",\n        \"description\": \"\"\n      }\n    },\n    {\n      \"column\": \"Low\",\n      \"properties\": {\n        \"dtype\": \"number\",\n        \"std\": 15803.040490430027,\n        \"min\": 171.50999450683594,\n        \"max\": 66382.0625,\n        \"num_unique_values\": 3285,\n        \"samples\": [\n          36069.8046875,\n          22747.8359375,\n          9448.1064453125\n        ],\n        \"semantic_type\": \"\",\n        \"description\": \"\"\n      }\n    },\n    {\n      \"column\": \"Close\",\n      \"properties\": {\n        \"dtype\": \"number\",\n        \"std\": 16242.203249174909,\n        \"min\": 178.10299682617188,\n        \"max\": 67566.828125,\n        \"num_unique_values\": 3284,\n        \"samples\": [\n          35547.75,\n          13831.7998046875,\n          9693.802734375\n        ],\n        \"semantic_type\": \"\",\n        \"description\": \"\"\n      }\n    },\n    {\n      \"column\": \"Adj Close\",\n      \"properties\": {\n        \"dtype\": \"number\",\n        \"std\": 16242.203249174909,\n        \"min\": 178.10299682617188,\n        \"max\": 67566.828125,\n        \"num_unique_values\": 3284,\n        \"samples\": [\n          35547.75,\n          13831.7998046875,\n          9693.802734375\n        ],\n        \"semantic_type\": \"\",\n        \"description\": \"\"\n      }\n    },\n    {\n      \"column\": \"Volume\",\n      \"properties\": {\n        \"dtype\": \"number\",\n        \"std\": 19154076328,\n        \"min\": 7860650,\n        \"max\": 350967941479,\n        \"num_unique_values\": 3287,\n        \"samples\": [\n          66834573161,\n          130527000,\n          60669829814\n        ],\n        \"semantic_type\": \"\",\n        \"description\": \"\"\n      }\n    }\n  ]\n}"
            }
          },
          "metadata": {},
          "execution_count": 2
        }
      ]
    },
    {
      "cell_type": "markdown",
      "source": [
        "Como vemos tenemos varias columnas, `Open` con el precio de apertura, `High` con el máximo del día, `Low`, con el mínimo del día, `Close` con el precio de cierre, `Adj Close` que para el caso de bitcoin sería el mismo que `Close` porque no da dividendos, ni amortiza deuda, `Volume` la cantidad del activo en dólares que se movilizó.\n",
        "\n",
        "Vamos a ver las estadística del conjunto"
      ],
      "metadata": {
        "id": "vK315xW58aps"
      }
    },
    {
      "cell_type": "code",
      "source": [
        "df.describe()"
      ],
      "metadata": {
        "colab": {
          "base_uri": "https://localhost:8080/",
          "height": 300
        },
        "id": "6ZKq9WlpwaN_",
        "outputId": "5a398bd2-06d8-440b-b94b-bd2c7adb9efa"
      },
      "execution_count": 3,
      "outputs": [
        {
          "output_type": "execute_result",
          "data": {
            "text/plain": [
              "               Open          High           Low         Close     Adj Close  \\\n",
              "count   3287.000000   3287.000000   3287.000000   3287.000000   3287.000000   \n",
              "mean   15030.227822  15381.631744  14651.962175  15041.625620  15041.625620   \n",
              "std    16240.295312  16630.177156  15803.040490  16242.203249  16242.203249   \n",
              "min      176.897003    211.731003    171.509995    178.102997    178.102997   \n",
              "25%     1185.275024   1206.515015   1172.234985   1187.840027   1187.840027   \n",
              "50%     8658.991211   8826.943359   8389.889648   8659.487305   8659.487305   \n",
              "75%    25141.166016  25937.496094  24849.660156  25369.524414  25369.524414   \n",
              "max    67549.734375  68789.625000  66382.062500  67566.828125  67566.828125   \n",
              "\n",
              "             Volume  \n",
              "count  3.287000e+03  \n",
              "mean   1.708190e+10  \n",
              "std    1.915408e+10  \n",
              "min    7.860650e+06  \n",
              "25%    3.349970e+08  \n",
              "50%    1.278036e+10  \n",
              "75%    2.741688e+10  \n",
              "max    3.509679e+11  "
            ],
            "text/html": [
              "\n",
              "  <div id=\"df-dc283c3a-4032-4149-91d2-95e6f2b18634\" class=\"colab-df-container\">\n",
              "    <div>\n",
              "<style scoped>\n",
              "    .dataframe tbody tr th:only-of-type {\n",
              "        vertical-align: middle;\n",
              "    }\n",
              "\n",
              "    .dataframe tbody tr th {\n",
              "        vertical-align: top;\n",
              "    }\n",
              "\n",
              "    .dataframe thead th {\n",
              "        text-align: right;\n",
              "    }\n",
              "</style>\n",
              "<table border=\"1\" class=\"dataframe\">\n",
              "  <thead>\n",
              "    <tr style=\"text-align: right;\">\n",
              "      <th></th>\n",
              "      <th>Open</th>\n",
              "      <th>High</th>\n",
              "      <th>Low</th>\n",
              "      <th>Close</th>\n",
              "      <th>Adj Close</th>\n",
              "      <th>Volume</th>\n",
              "    </tr>\n",
              "  </thead>\n",
              "  <tbody>\n",
              "    <tr>\n",
              "      <th>count</th>\n",
              "      <td>3287.000000</td>\n",
              "      <td>3287.000000</td>\n",
              "      <td>3287.000000</td>\n",
              "      <td>3287.000000</td>\n",
              "      <td>3287.000000</td>\n",
              "      <td>3.287000e+03</td>\n",
              "    </tr>\n",
              "    <tr>\n",
              "      <th>mean</th>\n",
              "      <td>15030.227822</td>\n",
              "      <td>15381.631744</td>\n",
              "      <td>14651.962175</td>\n",
              "      <td>15041.625620</td>\n",
              "      <td>15041.625620</td>\n",
              "      <td>1.708190e+10</td>\n",
              "    </tr>\n",
              "    <tr>\n",
              "      <th>std</th>\n",
              "      <td>16240.295312</td>\n",
              "      <td>16630.177156</td>\n",
              "      <td>15803.040490</td>\n",
              "      <td>16242.203249</td>\n",
              "      <td>16242.203249</td>\n",
              "      <td>1.915408e+10</td>\n",
              "    </tr>\n",
              "    <tr>\n",
              "      <th>min</th>\n",
              "      <td>176.897003</td>\n",
              "      <td>211.731003</td>\n",
              "      <td>171.509995</td>\n",
              "      <td>178.102997</td>\n",
              "      <td>178.102997</td>\n",
              "      <td>7.860650e+06</td>\n",
              "    </tr>\n",
              "    <tr>\n",
              "      <th>25%</th>\n",
              "      <td>1185.275024</td>\n",
              "      <td>1206.515015</td>\n",
              "      <td>1172.234985</td>\n",
              "      <td>1187.840027</td>\n",
              "      <td>1187.840027</td>\n",
              "      <td>3.349970e+08</td>\n",
              "    </tr>\n",
              "    <tr>\n",
              "      <th>50%</th>\n",
              "      <td>8658.991211</td>\n",
              "      <td>8826.943359</td>\n",
              "      <td>8389.889648</td>\n",
              "      <td>8659.487305</td>\n",
              "      <td>8659.487305</td>\n",
              "      <td>1.278036e+10</td>\n",
              "    </tr>\n",
              "    <tr>\n",
              "      <th>75%</th>\n",
              "      <td>25141.166016</td>\n",
              "      <td>25937.496094</td>\n",
              "      <td>24849.660156</td>\n",
              "      <td>25369.524414</td>\n",
              "      <td>25369.524414</td>\n",
              "      <td>2.741688e+10</td>\n",
              "    </tr>\n",
              "    <tr>\n",
              "      <th>max</th>\n",
              "      <td>67549.734375</td>\n",
              "      <td>68789.625000</td>\n",
              "      <td>66382.062500</td>\n",
              "      <td>67566.828125</td>\n",
              "      <td>67566.828125</td>\n",
              "      <td>3.509679e+11</td>\n",
              "    </tr>\n",
              "  </tbody>\n",
              "</table>\n",
              "</div>\n",
              "    <div class=\"colab-df-buttons\">\n",
              "\n",
              "  <div class=\"colab-df-container\">\n",
              "    <button class=\"colab-df-convert\" onclick=\"convertToInteractive('df-dc283c3a-4032-4149-91d2-95e6f2b18634')\"\n",
              "            title=\"Convert this dataframe to an interactive table.\"\n",
              "            style=\"display:none;\">\n",
              "\n",
              "  <svg xmlns=\"http://www.w3.org/2000/svg\" height=\"24px\" viewBox=\"0 -960 960 960\">\n",
              "    <path d=\"M120-120v-720h720v720H120Zm60-500h600v-160H180v160Zm220 220h160v-160H400v160Zm0 220h160v-160H400v160ZM180-400h160v-160H180v160Zm440 0h160v-160H620v160ZM180-180h160v-160H180v160Zm440 0h160v-160H620v160Z\"/>\n",
              "  </svg>\n",
              "    </button>\n",
              "\n",
              "  <style>\n",
              "    .colab-df-container {\n",
              "      display:flex;\n",
              "      gap: 12px;\n",
              "    }\n",
              "\n",
              "    .colab-df-convert {\n",
              "      background-color: #E8F0FE;\n",
              "      border: none;\n",
              "      border-radius: 50%;\n",
              "      cursor: pointer;\n",
              "      display: none;\n",
              "      fill: #1967D2;\n",
              "      height: 32px;\n",
              "      padding: 0 0 0 0;\n",
              "      width: 32px;\n",
              "    }\n",
              "\n",
              "    .colab-df-convert:hover {\n",
              "      background-color: #E2EBFA;\n",
              "      box-shadow: 0px 1px 2px rgba(60, 64, 67, 0.3), 0px 1px 3px 1px rgba(60, 64, 67, 0.15);\n",
              "      fill: #174EA6;\n",
              "    }\n",
              "\n",
              "    .colab-df-buttons div {\n",
              "      margin-bottom: 4px;\n",
              "    }\n",
              "\n",
              "    [theme=dark] .colab-df-convert {\n",
              "      background-color: #3B4455;\n",
              "      fill: #D2E3FC;\n",
              "    }\n",
              "\n",
              "    [theme=dark] .colab-df-convert:hover {\n",
              "      background-color: #434B5C;\n",
              "      box-shadow: 0px 1px 3px 1px rgba(0, 0, 0, 0.15);\n",
              "      filter: drop-shadow(0px 1px 2px rgba(0, 0, 0, 0.3));\n",
              "      fill: #FFFFFF;\n",
              "    }\n",
              "  </style>\n",
              "\n",
              "    <script>\n",
              "      const buttonEl =\n",
              "        document.querySelector('#df-dc283c3a-4032-4149-91d2-95e6f2b18634 button.colab-df-convert');\n",
              "      buttonEl.style.display =\n",
              "        google.colab.kernel.accessAllowed ? 'block' : 'none';\n",
              "\n",
              "      async function convertToInteractive(key) {\n",
              "        const element = document.querySelector('#df-dc283c3a-4032-4149-91d2-95e6f2b18634');\n",
              "        const dataTable =\n",
              "          await google.colab.kernel.invokeFunction('convertToInteractive',\n",
              "                                                    [key], {});\n",
              "        if (!dataTable) return;\n",
              "\n",
              "        const docLinkHtml = 'Like what you see? Visit the ' +\n",
              "          '<a target=\"_blank\" href=https://colab.research.google.com/notebooks/data_table.ipynb>data table notebook</a>'\n",
              "          + ' to learn more about interactive tables.';\n",
              "        element.innerHTML = '';\n",
              "        dataTable['output_type'] = 'display_data';\n",
              "        await google.colab.output.renderOutput(dataTable, element);\n",
              "        const docLink = document.createElement('div');\n",
              "        docLink.innerHTML = docLinkHtml;\n",
              "        element.appendChild(docLink);\n",
              "      }\n",
              "    </script>\n",
              "  </div>\n",
              "\n",
              "\n",
              "<div id=\"df-5a852aa5-e3aa-4d94-a396-56a876282de8\">\n",
              "  <button class=\"colab-df-quickchart\" onclick=\"quickchart('df-5a852aa5-e3aa-4d94-a396-56a876282de8')\"\n",
              "            title=\"Suggest charts\"\n",
              "            style=\"display:none;\">\n",
              "\n",
              "<svg xmlns=\"http://www.w3.org/2000/svg\" height=\"24px\"viewBox=\"0 0 24 24\"\n",
              "     width=\"24px\">\n",
              "    <g>\n",
              "        <path d=\"M19 3H5c-1.1 0-2 .9-2 2v14c0 1.1.9 2 2 2h14c1.1 0 2-.9 2-2V5c0-1.1-.9-2-2-2zM9 17H7v-7h2v7zm4 0h-2V7h2v10zm4 0h-2v-4h2v4z\"/>\n",
              "    </g>\n",
              "</svg>\n",
              "  </button>\n",
              "\n",
              "<style>\n",
              "  .colab-df-quickchart {\n",
              "      --bg-color: #E8F0FE;\n",
              "      --fill-color: #1967D2;\n",
              "      --hover-bg-color: #E2EBFA;\n",
              "      --hover-fill-color: #174EA6;\n",
              "      --disabled-fill-color: #AAA;\n",
              "      --disabled-bg-color: #DDD;\n",
              "  }\n",
              "\n",
              "  [theme=dark] .colab-df-quickchart {\n",
              "      --bg-color: #3B4455;\n",
              "      --fill-color: #D2E3FC;\n",
              "      --hover-bg-color: #434B5C;\n",
              "      --hover-fill-color: #FFFFFF;\n",
              "      --disabled-bg-color: #3B4455;\n",
              "      --disabled-fill-color: #666;\n",
              "  }\n",
              "\n",
              "  .colab-df-quickchart {\n",
              "    background-color: var(--bg-color);\n",
              "    border: none;\n",
              "    border-radius: 50%;\n",
              "    cursor: pointer;\n",
              "    display: none;\n",
              "    fill: var(--fill-color);\n",
              "    height: 32px;\n",
              "    padding: 0;\n",
              "    width: 32px;\n",
              "  }\n",
              "\n",
              "  .colab-df-quickchart:hover {\n",
              "    background-color: var(--hover-bg-color);\n",
              "    box-shadow: 0 1px 2px rgba(60, 64, 67, 0.3), 0 1px 3px 1px rgba(60, 64, 67, 0.15);\n",
              "    fill: var(--button-hover-fill-color);\n",
              "  }\n",
              "\n",
              "  .colab-df-quickchart-complete:disabled,\n",
              "  .colab-df-quickchart-complete:disabled:hover {\n",
              "    background-color: var(--disabled-bg-color);\n",
              "    fill: var(--disabled-fill-color);\n",
              "    box-shadow: none;\n",
              "  }\n",
              "\n",
              "  .colab-df-spinner {\n",
              "    border: 2px solid var(--fill-color);\n",
              "    border-color: transparent;\n",
              "    border-bottom-color: var(--fill-color);\n",
              "    animation:\n",
              "      spin 1s steps(1) infinite;\n",
              "  }\n",
              "\n",
              "  @keyframes spin {\n",
              "    0% {\n",
              "      border-color: transparent;\n",
              "      border-bottom-color: var(--fill-color);\n",
              "      border-left-color: var(--fill-color);\n",
              "    }\n",
              "    20% {\n",
              "      border-color: transparent;\n",
              "      border-left-color: var(--fill-color);\n",
              "      border-top-color: var(--fill-color);\n",
              "    }\n",
              "    30% {\n",
              "      border-color: transparent;\n",
              "      border-left-color: var(--fill-color);\n",
              "      border-top-color: var(--fill-color);\n",
              "      border-right-color: var(--fill-color);\n",
              "    }\n",
              "    40% {\n",
              "      border-color: transparent;\n",
              "      border-right-color: var(--fill-color);\n",
              "      border-top-color: var(--fill-color);\n",
              "    }\n",
              "    60% {\n",
              "      border-color: transparent;\n",
              "      border-right-color: var(--fill-color);\n",
              "    }\n",
              "    80% {\n",
              "      border-color: transparent;\n",
              "      border-right-color: var(--fill-color);\n",
              "      border-bottom-color: var(--fill-color);\n",
              "    }\n",
              "    90% {\n",
              "      border-color: transparent;\n",
              "      border-bottom-color: var(--fill-color);\n",
              "    }\n",
              "  }\n",
              "</style>\n",
              "\n",
              "  <script>\n",
              "    async function quickchart(key) {\n",
              "      const quickchartButtonEl =\n",
              "        document.querySelector('#' + key + ' button');\n",
              "      quickchartButtonEl.disabled = true;  // To prevent multiple clicks.\n",
              "      quickchartButtonEl.classList.add('colab-df-spinner');\n",
              "      try {\n",
              "        const charts = await google.colab.kernel.invokeFunction(\n",
              "            'suggestCharts', [key], {});\n",
              "      } catch (error) {\n",
              "        console.error('Error during call to suggestCharts:', error);\n",
              "      }\n",
              "      quickchartButtonEl.classList.remove('colab-df-spinner');\n",
              "      quickchartButtonEl.classList.add('colab-df-quickchart-complete');\n",
              "    }\n",
              "    (() => {\n",
              "      let quickchartButtonEl =\n",
              "        document.querySelector('#df-5a852aa5-e3aa-4d94-a396-56a876282de8 button');\n",
              "      quickchartButtonEl.style.display =\n",
              "        google.colab.kernel.accessAllowed ? 'block' : 'none';\n",
              "    })();\n",
              "  </script>\n",
              "</div>\n",
              "\n",
              "    </div>\n",
              "  </div>\n"
            ],
            "application/vnd.google.colaboratory.intrinsic+json": {
              "type": "dataframe",
              "summary": "{\n  \"name\": \"df\",\n  \"rows\": 8,\n  \"fields\": [\n    {\n      \"column\": \"Open\",\n      \"properties\": {\n        \"dtype\": \"number\",\n        \"std\": 22092.503637853577,\n        \"min\": 176.89700317382812,\n        \"max\": 67549.734375,\n        \"num_unique_values\": 8,\n        \"samples\": [\n          15030.227821835204,\n          8658.9912109375,\n          3287.0\n        ],\n        \"semantic_type\": \"\",\n        \"description\": \"\"\n      }\n    },\n    {\n      \"column\": \"High\",\n      \"properties\": {\n        \"dtype\": \"number\",\n        \"std\": 22515.534443653658,\n        \"min\": 211.7310028076172,\n        \"max\": 68789.625,\n        \"num_unique_values\": 8,\n        \"samples\": [\n          15381.63174443583,\n          8826.943359375,\n          3287.0\n        ],\n        \"semantic_type\": \"\",\n        \"description\": \"\"\n      }\n    },\n    {\n      \"column\": \"Low\",\n      \"properties\": {\n        \"dtype\": \"number\",\n        \"std\": 21721.74348672033,\n        \"min\": 171.50999450683594,\n        \"max\": 66382.0625,\n        \"num_unique_values\": 8,\n        \"samples\": [\n          14651.962175044891,\n          8389.8896484375,\n          3287.0\n        ],\n        \"semantic_type\": \"\",\n        \"description\": \"\"\n      }\n    },\n    {\n      \"column\": \"Close\",\n      \"properties\": {\n        \"dtype\": \"number\",\n        \"std\": 22109.403500861303,\n        \"min\": 178.10299682617188,\n        \"max\": 67566.828125,\n        \"num_unique_values\": 8,\n        \"samples\": [\n          15041.62562043434,\n          8659.4873046875,\n          3287.0\n        ],\n        \"semantic_type\": \"\",\n        \"description\": \"\"\n      }\n    },\n    {\n      \"column\": \"Adj Close\",\n      \"properties\": {\n        \"dtype\": \"number\",\n        \"std\": 22109.403500861303,\n        \"min\": 178.10299682617188,\n        \"max\": 67566.828125,\n        \"num_unique_values\": 8,\n        \"samples\": [\n          15041.62562043434,\n          8659.4873046875,\n          3287.0\n        ],\n        \"semantic_type\": \"\",\n        \"description\": \"\"\n      }\n    },\n    {\n      \"column\": \"Volume\",\n      \"properties\": {\n        \"dtype\": \"number\",\n        \"std\": 120642141136.3651,\n        \"min\": 3287.0,\n        \"max\": 350967941479.0,\n        \"num_unique_values\": 8,\n        \"samples\": [\n          17081895743.38211,\n          12780357746.0,\n          3287.0\n        ],\n        \"semantic_type\": \"\",\n        \"description\": \"\"\n      }\n    }\n  ]\n}"
            }
          },
          "metadata": {},
          "execution_count": 3
        }
      ]
    },
    {
      "cell_type": "markdown",
      "source": [
        "Como vemos, el volumen va de los 7 millones a los 3 billones (trillones en inglés) de dólares lo que demuestra su interés creciente en los últimos años. A su vez se ve que el precio mínimo ha sido 178 USD y el máximo 67566 USD. Esto es relevante porque puede hacer que nuestra red no converja y tengamos que hacer algo para manerjarlo.\n",
        "\n",
        "Vamos a considerar al precio del cierre nuestras features, y el precio de cierre al día actual como el target, pues nos ayuda a determinar si comprar o vender en el día, de acuerdo a lo que pasó en los días anteriores. Vamos a graficarlo."
      ],
      "metadata": {
        "id": "i_xNHa2Z9QZO"
      }
    },
    {
      "cell_type": "code",
      "source": [
        "import matplotlib.pyplot as plt\n",
        "\n",
        "plt.figure(figsize=(14, 8))\n",
        "plt.plot(df.index, df['Close'], label='Precio al cierre del día')\n",
        "plt.title(f'Precio de Bitcoin desde {from_date} hasta {to_date}')\n",
        "plt.xlabel('Fecha')\n",
        "plt.ylabel('Precio (USD)')\n",
        "plt.legend()\n",
        "plt.show()"
      ],
      "metadata": {
        "colab": {
          "base_uri": "https://localhost:8080/",
          "height": 616
        },
        "id": "jBCgiOMawkiv",
        "outputId": "dfbe4636-6237-4ebc-e333-94d6602bb74f"
      },
      "execution_count": 4,
      "outputs": [
        {
          "output_type": "display_data",
          "data": {
            "text/plain": [
              "<Figure size 1400x800 with 1 Axes>"
            ],
            "image/png": "[encoded data removed]"
          },
          "metadata": {}
        }
      ]
    },
    {
      "cell_type": "markdown",
      "source": [
        "Un gráfico genial, que demustra una ligera tendencia alcista y varias fluctuaciones con variaciones tacionales que parecen darse cada 2 años."
      ],
      "metadata": {
        "id": "FVdvkEaS-cq0"
      }
    },
    {
      "cell_type": "markdown",
      "source": [
        "### Preprocesamiento de los datos"
      ],
      "metadata": {
        "id": "Ne3fb64e-1XW"
      }
    },
    {
      "cell_type": "code",
      "source": [
        "# Obtenemos la serie de precios como una matriz numpy\n",
        "data = df[['Close']].values"
      ],
      "metadata": {
        "id": "lygZUFO_yEy7"
      },
      "execution_count": null,
      "outputs": []
    },
    {
      "cell_type": "markdown",
      "source": [
        "Como vimos en la etapa de análisis, los valores están muy dispersos y van de un mínimo a un máximo muy alejados. Para arreglar esto se suelen hacer transformaciones como la normalización y la estandarización.\n",
        "\n",
        "Para simplificar el proceso, solo vamos a reescalar todos los valores para que se encuentren entre 0 y 1 con `MinMaxScaler`"
      ],
      "metadata": {
        "id": "mXoUrem5_Djw"
      }
    },
    {
      "cell_type": "code",
      "source": [
        "from sklearn.preprocessing import MinMaxScaler\n",
        "\n",
        "# Escalamos para que todos los valores esten entre 0 y 1 y hace más estable el entrenamiento\n",
        "scaler = MinMaxScaler(feature_range=(0, 1))\n",
        "scaled_data = scaler.fit_transform(data)"
      ],
      "metadata": {
        "id": "3KYZfZJHyUty"
      },
      "execution_count": null,
      "outputs": []
    },
    {
      "cell_type": "markdown",
      "source": [
        "Listo, al escalar, nuestro entrenamiento será más estable y evitaremos la saturación de nuestras funciones de activación.\n",
        "\n",
        "Ahora vamos a dividir el dataset en conjunto de entranimiento y prueba. Como es una serie de tiempo podemos entrenar la red con los primeros elementos del conjunto y luego probar con los posteriores.\n",
        "\n",
        "No obstante, recuerda que las LSTM necesitan una secuencia de entrada por lo que para probar un conjunto, necesitamos tomar prestados una serie de elementos del conjunto de entrenamiento que llamamos `look_back` que básicamente es la cantidad de elementos previos de la secuencia consideramos."
      ],
      "metadata": {
        "id": "yAGsVEO5_jzi"
      }
    },
    {
      "cell_type": "code",
      "source": [
        "# Dividimos el dataset\n",
        "\n",
        "# Indicamos la longitud de nuestro dataset\n",
        "training_data_len = int(len(scaled_data) * 0.8)\n",
        "\n",
        "# Tomamos como conjunto de entrenamiento las primeras muestras\n",
        "train_data = scaled_data[:training_data_len, :]\n",
        "\n",
        "# Para predecir el precio actual tomaremos los 60 días anteriores\n",
        "look_back = 60\n",
        "\n",
        "# Tomamos las muestras de prueba. Tomamos `look_back` elementos antes del conjunto de pruebas\n",
        "# para que el modelo logre predecir el elemento `0` del conjunto de pruebas\n",
        "test_data = scaled_data[training_data_len - look_back:, :]"
      ],
      "metadata": {
        "id": "ETvK9Qaty5qS"
      },
      "execution_count": null,
      "outputs": []
    },
    {
      "cell_type": "markdown",
      "source": [
        "Genial, ya tenemos un conjunto de entrenamiento y pruebas, vamos a crear los splits para tener las features y los targets"
      ],
      "metadata": {
        "id": "2AXCLx5UBKPS"
      }
    },
    {
      "cell_type": "code",
      "source": [
        "import numpy as np\n",
        "\n",
        "def create_dataset(data, look_back):\n",
        "    X, Y = [], []\n",
        "    for i in range(look_back, len(data)):\n",
        "        X.append(data[i-look_back:i, 0])\n",
        "        Y.append(data[i, 0])\n",
        "    return np.array(X), np.array(Y)"
      ],
      "metadata": {
        "id": "a7i_wWmh0DIV"
      },
      "execution_count": null,
      "outputs": []
    },
    {
      "cell_type": "code",
      "source": [
        "# Creamos los conjuntos\n",
        "X_train, y_train = create_dataset(train_data, look_back)\n",
        "X_test, y_test = create_dataset(test_data, look_back)\n",
        "\n",
        "# Mostramos la forma de los array\n",
        "print(X_train.shape, X_test.shape)"
      ],
      "metadata": {
        "colab": {
          "base_uri": "https://localhost:8080/"
        },
        "id": "nro_Rgj90Xwh",
        "outputId": "3a2779f1-8e59-46a5-cf40-c2649b218570"
      },
      "execution_count": null,
      "outputs": [
        {
          "output_type": "stream",
          "name": "stdout",
          "text": [
            "(2569, 60) (658, 60)\n"
          ]
        }
      ]
    },
    {
      "cell_type": "markdown",
      "source": [
        "Excelente, tenemos el conjunto de entrenamiento con una forma `(2569, 60)` y pruebas `(658, 60)` para las features. El primer para `2569` nos indica la cantidad de muestras, mientras que el segundo par `60`, nos indica la cantidad de pasos en el tiempo que impactan a la decisión actual.\n",
        "\n",
        "Para este caso solo escogimos una feature, pero el modelo no lo sabe, vamos a agregarle una dimensión al final para que el modelo sepa la cantidad de canales que pertenecen al conjunto."
      ],
      "metadata": {
        "id": "HwMzz515BXre"
      }
    },
    {
      "cell_type": "code",
      "source": [
        "# Ajustamos la dimensión a [samples, time steps, features]\n",
        "X_train = np.reshape(X_train, (X_train.shape[0], X_train.shape[1], 1))\n",
        "X_test = np.reshape(X_test, (X_test.shape[0], X_test.shape[1], 1))\n",
        "\n",
        "# Mostramos la forma de los array\n",
        "print(X_train.shape, X_test.shape)"
      ],
      "metadata": {
        "colab": {
          "base_uri": "https://localhost:8080/"
        },
        "id": "D8IsZXKn0yZ6",
        "outputId": "99e6b28c-b518-4d64-eba8-278ee81f7c8c"
      },
      "execution_count": null,
      "outputs": [
        {
          "output_type": "execute_result",
          "data": {
            "text/plain": [
              "(2569, 60, 1)"
            ]
          },
          "metadata": {},
          "execution_count": 9
        }
      ]
    },
    {
      "cell_type": "markdown",
      "source": [
        "Bien, ahora el primer par es la cantidad de muestras, el segundo la cantidad de días que se consideran para nuestro cálculo, y el tercer paso indica la cantidad de features del valor, en este caso `1` porque solo consideramos el valor de `Close` como entrada.\n",
        "\n",
        "Ya está todo listo para jugar con la red"
      ],
      "metadata": {
        "id": "fNFfKwhKCN_E"
      }
    },
    {
      "cell_type": "markdown",
      "source": [
        "## Selección e implementación de modelo"
      ],
      "metadata": {
        "id": "MhOiDFAyC9eI"
      }
    },
    {
      "cell_type": "markdown",
      "source": [
        "Para este caso se escogió una LSTM, pero no se descarta que funcione con una recurrente normal o una GRU.\n",
        "\n",
        "Vamos a crear una capa LSTM que sea seq2seq y que extraiga las features que le sirvan ya a otra LSTM seq2vec que termine de modelar la información para que una unidad neuronal sea capaz de predecir el precio de la acción."
      ],
      "metadata": {
        "id": "etshGw-SDB0K"
      }
    },
    {
      "cell_type": "code",
      "source": [
        "from tensorflow import keras\n",
        "\n",
        "# Iniciamos el modelo\n",
        "model = keras.models.Sequential()\n",
        "\n",
        "# Agregamos una capa LSTM\n",
        "model.add(keras.layers.LSTM(50, return_sequences=True, input_shape=(look_back, 1)))\n",
        "\n",
        "# Regularizamos para evitar overfitting a series de tiempo\n",
        "model.add(keras.layers.Dropout(0.2))\n",
        "\n",
        "# Agregamos una capa LSTM\n",
        "model.add(keras.layers.LSTM(50, return_sequences=False))\n",
        "\n",
        "# Regularizamos para evitar overfitting a series de tiempo\n",
        "model.add(keras.layers.Dropout(0.2))\n",
        "\n",
        "# Capa de salida con salida lineal\n",
        "model.add(keras.layers.Dense(1))\n",
        "\n",
        "# Compile the model\n",
        "model.compile(optimizer='adam', loss='mse')\n"
      ],
      "metadata": {
        "id": "T07E07YO1-wB"
      },
      "execution_count": null,
      "outputs": []
    },
    {
      "cell_type": "markdown",
      "source": [
        "Ya creamos nuestro modelo, vamos a correrlo por 100 épocas y veamos qué pasa"
      ],
      "metadata": {
        "id": "qkm2vOz8EMqM"
      }
    },
    {
      "cell_type": "code",
      "source": [
        "history = model.fit(X_train, y_train, epochs=100, validation_data=(X_test, y_test))"
      ],
      "metadata": {
        "colab": {
          "base_uri": "https://localhost:8080/"
        },
        "id": "mQoirnM-3rRH",
        "outputId": "5079c48d-0183-4826-9873-f53923df3b4e"
      },
      "execution_count": null,
      "outputs": [
        {
          "output_type": "stream",
          "name": "stdout",
          "text": [
            "Epoch 1/100\n",
            "81/81 [==============================] - 8s 20ms/step - loss: 0.0076 - val_loss: 0.0012\n",
            "Epoch 2/100\n",
            "81/81 [==============================] - 1s 12ms/step - loss: 0.0020 - val_loss: 9.2204e-04\n",
            "Epoch 3/100\n",
            "81/81 [==============================] - 1s 14ms/step - loss: 0.0017 - val_loss: 9.4127e-04\n",
            "Epoch 4/100\n",
            "81/81 [==============================] - 1s 14ms/step - loss: 0.0016 - val_loss: 6.7630e-04\n",
            "Epoch 5/100\n",
            "81/81 [==============================] - 1s 12ms/step - loss: 0.0014 - val_loss: 7.3254e-04\n",
            "Epoch 6/100\n",
            "81/81 [==============================] - 1s 10ms/step - loss: 0.0015 - val_loss: 7.6460e-04\n",
            "Epoch 7/100\n",
            "81/81 [==============================] - 1s 10ms/step - loss: 0.0015 - val_loss: 5.2984e-04\n",
            "Epoch 8/100\n",
            "81/81 [==============================] - 1s 10ms/step - loss: 0.0012 - val_loss: 7.2921e-04\n",
            "Epoch 9/100\n",
            "81/81 [==============================] - 1s 9ms/step - loss: 0.0012 - val_loss: 4.8499e-04\n",
            "Epoch 10/100\n",
            "81/81 [==============================] - 1s 10ms/step - loss: 0.0012 - val_loss: 0.0017\n",
            "Epoch 11/100\n",
            "81/81 [==============================] - 1s 10ms/step - loss: 0.0011 - val_loss: 4.4166e-04\n",
            "Epoch 12/100\n",
            "81/81 [==============================] - 1s 11ms/step - loss: 0.0011 - val_loss: 4.1897e-04\n",
            "Epoch 13/100\n",
            "81/81 [==============================] - 1s 10ms/step - loss: 0.0010 - val_loss: 6.4114e-04\n",
            "Epoch 14/100\n",
            "81/81 [==============================] - 1s 10ms/step - loss: 0.0010 - val_loss: 4.4115e-04\n",
            "Epoch 15/100\n",
            "81/81 [==============================] - 1s 10ms/step - loss: 0.0010 - val_loss: 4.8645e-04\n",
            "Epoch 16/100\n",
            "81/81 [==============================] - 1s 10ms/step - loss: 0.0010 - val_loss: 7.7724e-04\n",
            "Epoch 17/100\n",
            "81/81 [==============================] - 1s 11ms/step - loss: 9.9872e-04 - val_loss: 4.5988e-04\n",
            "Epoch 18/100\n",
            "81/81 [==============================] - 1s 14ms/step - loss: 9.9234e-04 - val_loss: 3.7545e-04\n",
            "Epoch 19/100\n",
            "81/81 [==============================] - 1s 14ms/step - loss: 9.6485e-04 - val_loss: 6.9478e-04\n",
            "Epoch 20/100\n",
            "81/81 [==============================] - 1s 12ms/step - loss: 0.0011 - val_loss: 3.2004e-04\n",
            "Epoch 21/100\n",
            "81/81 [==============================] - 1s 10ms/step - loss: 0.0010 - val_loss: 7.1356e-04\n",
            "Epoch 22/100\n",
            "81/81 [==============================] - 1s 10ms/step - loss: 9.0120e-04 - val_loss: 3.6005e-04\n",
            "Epoch 23/100\n",
            "81/81 [==============================] - 1s 10ms/step - loss: 8.0494e-04 - val_loss: 3.0625e-04\n",
            "Epoch 24/100\n",
            "81/81 [==============================] - 1s 13ms/step - loss: 8.8622e-04 - val_loss: 3.0372e-04\n",
            "Epoch 25/100\n",
            "81/81 [==============================] - 1s 14ms/step - loss: 8.9871e-04 - val_loss: 4.5338e-04\n",
            "Epoch 26/100\n",
            "81/81 [==============================] - 1s 14ms/step - loss: 7.9121e-04 - val_loss: 2.9638e-04\n",
            "Epoch 27/100\n",
            "81/81 [==============================] - 1s 12ms/step - loss: 8.1406e-04 - val_loss: 3.6463e-04\n",
            "Epoch 28/100\n",
            "81/81 [==============================] - 1s 10ms/step - loss: 9.3420e-04 - val_loss: 4.1879e-04\n",
            "Epoch 29/100\n",
            "81/81 [==============================] - 1s 10ms/step - loss: 7.8559e-04 - val_loss: 3.9610e-04\n",
            "Epoch 30/100\n",
            "81/81 [==============================] - 1s 10ms/step - loss: 8.4870e-04 - val_loss: 7.5309e-04\n",
            "Epoch 31/100\n",
            "81/81 [==============================] - 1s 11ms/step - loss: 8.2340e-04 - val_loss: 4.5086e-04\n",
            "Epoch 32/100\n",
            "81/81 [==============================] - 1s 14ms/step - loss: 7.1789e-04 - val_loss: 3.9394e-04\n",
            "Epoch 33/100\n",
            "81/81 [==============================] - 1s 15ms/step - loss: 7.5800e-04 - val_loss: 2.8689e-04\n",
            "Epoch 34/100\n",
            "81/81 [==============================] - 1s 11ms/step - loss: 6.9331e-04 - val_loss: 4.0387e-04\n",
            "Epoch 35/100\n",
            "81/81 [==============================] - 1s 10ms/step - loss: 7.8288e-04 - val_loss: 2.4600e-04\n",
            "Epoch 36/100\n",
            "81/81 [==============================] - 1s 10ms/step - loss: 8.8744e-04 - val_loss: 3.6607e-04\n",
            "Epoch 37/100\n",
            "81/81 [==============================] - 1s 10ms/step - loss: 7.0703e-04 - val_loss: 2.5155e-04\n",
            "Epoch 38/100\n",
            "81/81 [==============================] - 1s 10ms/step - loss: 7.6125e-04 - val_loss: 5.2194e-04\n",
            "Epoch 39/100\n",
            "81/81 [==============================] - 1s 10ms/step - loss: 7.6111e-04 - val_loss: 2.5868e-04\n",
            "Epoch 40/100\n",
            "81/81 [==============================] - 1s 10ms/step - loss: 6.7152e-04 - val_loss: 2.3189e-04\n",
            "Epoch 41/100\n",
            "81/81 [==============================] - 1s 10ms/step - loss: 6.8187e-04 - val_loss: 2.3167e-04\n",
            "Epoch 42/100\n",
            "81/81 [==============================] - 1s 10ms/step - loss: 7.6757e-04 - val_loss: 2.1115e-04\n",
            "Epoch 43/100\n",
            "81/81 [==============================] - 1s 10ms/step - loss: 7.1614e-04 - val_loss: 2.3651e-04\n",
            "Epoch 44/100\n",
            "81/81 [==============================] - 1s 10ms/step - loss: 8.1494e-04 - val_loss: 2.1183e-04\n",
            "Epoch 45/100\n",
            "81/81 [==============================] - 1s 10ms/step - loss: 8.8678e-04 - val_loss: 7.5878e-04\n",
            "Epoch 46/100\n",
            "81/81 [==============================] - 1s 12ms/step - loss: 7.1688e-04 - val_loss: 3.0350e-04\n",
            "Epoch 47/100\n",
            "81/81 [==============================] - 1s 14ms/step - loss: 7.1300e-04 - val_loss: 0.0010\n",
            "Epoch 48/100\n",
            "81/81 [==============================] - 1s 14ms/step - loss: 7.2475e-04 - val_loss: 2.1779e-04\n",
            "Epoch 49/100\n",
            "81/81 [==============================] - 1s 13ms/step - loss: 6.7850e-04 - val_loss: 2.3159e-04\n",
            "Epoch 50/100\n",
            "81/81 [==============================] - 1s 11ms/step - loss: 7.5328e-04 - val_loss: 2.1524e-04\n",
            "Epoch 51/100\n",
            "81/81 [==============================] - 1s 10ms/step - loss: 6.7255e-04 - val_loss: 5.4764e-04\n",
            "Epoch 52/100\n",
            "81/81 [==============================] - 1s 11ms/step - loss: 7.4871e-04 - val_loss: 2.1712e-04\n",
            "Epoch 53/100\n",
            "81/81 [==============================] - 1s 10ms/step - loss: 7.3908e-04 - val_loss: 0.0015\n",
            "Epoch 54/100\n",
            "81/81 [==============================] - 1s 10ms/step - loss: 8.1364e-04 - val_loss: 1.9813e-04\n",
            "Epoch 55/100\n",
            "81/81 [==============================] - 1s 11ms/step - loss: 6.9810e-04 - val_loss: 2.0415e-04\n",
            "Epoch 56/100\n",
            "81/81 [==============================] - 1s 10ms/step - loss: 7.5529e-04 - val_loss: 1.9045e-04\n",
            "Epoch 57/100\n",
            "81/81 [==============================] - 1s 10ms/step - loss: 6.5321e-04 - val_loss: 8.5385e-04\n",
            "Epoch 58/100\n",
            "81/81 [==============================] - 1s 10ms/step - loss: 6.6067e-04 - val_loss: 2.1865e-04\n",
            "Epoch 59/100\n",
            "81/81 [==============================] - 1s 11ms/step - loss: 6.5589e-04 - val_loss: 1.8140e-04\n",
            "Epoch 60/100\n",
            "81/81 [==============================] - 1s 10ms/step - loss: 7.5043e-04 - val_loss: 2.4987e-04\n",
            "Epoch 61/100\n",
            "81/81 [==============================] - 1s 12ms/step - loss: 6.1949e-04 - val_loss: 2.8526e-04\n",
            "Epoch 62/100\n",
            "81/81 [==============================] - 1s 13ms/step - loss: 6.5337e-04 - val_loss: 2.1042e-04\n",
            "Epoch 63/100\n",
            "81/81 [==============================] - 1s 14ms/step - loss: 6.5018e-04 - val_loss: 1.8458e-04\n",
            "Epoch 64/100\n",
            "81/81 [==============================] - 1s 11ms/step - loss: 7.6728e-04 - val_loss: 5.0902e-04\n",
            "Epoch 65/100\n",
            "81/81 [==============================] - 1s 10ms/step - loss: 6.9868e-04 - val_loss: 2.1984e-04\n",
            "Epoch 66/100\n",
            "81/81 [==============================] - 1s 10ms/step - loss: 5.9278e-04 - val_loss: 1.8369e-04\n",
            "Epoch 67/100\n",
            "81/81 [==============================] - 1s 10ms/step - loss: 6.3165e-04 - val_loss: 4.1665e-04\n",
            "Epoch 68/100\n",
            "81/81 [==============================] - 1s 10ms/step - loss: 7.5511e-04 - val_loss: 8.6600e-04\n",
            "Epoch 69/100\n",
            "81/81 [==============================] - 1s 10ms/step - loss: 8.5337e-04 - val_loss: 2.8296e-04\n",
            "Epoch 70/100\n",
            "81/81 [==============================] - 1s 10ms/step - loss: 6.9616e-04 - val_loss: 2.8859e-04\n",
            "Epoch 71/100\n",
            "81/81 [==============================] - 1s 10ms/step - loss: 7.1965e-04 - val_loss: 3.9674e-04\n",
            "Epoch 72/100\n",
            "81/81 [==============================] - 1s 10ms/step - loss: 6.2947e-04 - val_loss: 1.7420e-04\n",
            "Epoch 73/100\n",
            "81/81 [==============================] - 1s 10ms/step - loss: 5.6867e-04 - val_loss: 2.3838e-04\n",
            "Epoch 74/100\n",
            "81/81 [==============================] - 1s 10ms/step - loss: 5.4740e-04 - val_loss: 3.3119e-04\n",
            "Epoch 75/100\n",
            "81/81 [==============================] - 1s 10ms/step - loss: 5.5163e-04 - val_loss: 1.6495e-04\n",
            "Epoch 76/100\n",
            "81/81 [==============================] - 1s 12ms/step - loss: 6.5168e-04 - val_loss: 2.3418e-04\n",
            "Epoch 77/100\n",
            "81/81 [==============================] - 1s 13ms/step - loss: 6.9065e-04 - val_loss: 1.9030e-04\n",
            "Epoch 78/100\n",
            "81/81 [==============================] - 1s 14ms/step - loss: 6.2818e-04 - val_loss: 2.1456e-04\n",
            "Epoch 79/100\n",
            "81/81 [==============================] - 1s 13ms/step - loss: 6.5718e-04 - val_loss: 1.5955e-04\n",
            "Epoch 80/100\n",
            "81/81 [==============================] - 1s 9ms/step - loss: 6.5016e-04 - val_loss: 1.7075e-04\n",
            "Epoch 81/100\n",
            "81/81 [==============================] - 1s 10ms/step - loss: 6.3802e-04 - val_loss: 2.0485e-04\n",
            "Epoch 82/100\n",
            "81/81 [==============================] - 1s 9ms/step - loss: 5.7535e-04 - val_loss: 2.7845e-04\n",
            "Epoch 83/100\n",
            "81/81 [==============================] - 1s 10ms/step - loss: 7.1512e-04 - val_loss: 2.9515e-04\n",
            "Epoch 84/100\n",
            "81/81 [==============================] - 1s 11ms/step - loss: 6.5647e-04 - val_loss: 4.9768e-04\n",
            "Epoch 85/100\n",
            "81/81 [==============================] - 1s 10ms/step - loss: 6.9507e-04 - val_loss: 3.6687e-04\n",
            "Epoch 86/100\n",
            "81/81 [==============================] - 1s 10ms/step - loss: 6.2016e-04 - val_loss: 2.0242e-04\n",
            "Epoch 87/100\n",
            "81/81 [==============================] - 1s 10ms/step - loss: 5.7380e-04 - val_loss: 1.5909e-04\n",
            "Epoch 88/100\n",
            "81/81 [==============================] - 1s 10ms/step - loss: 7.0973e-04 - val_loss: 3.2760e-04\n",
            "Epoch 89/100\n",
            "81/81 [==============================] - 1s 10ms/step - loss: 6.1476e-04 - val_loss: 2.4618e-04\n",
            "Epoch 90/100\n",
            "81/81 [==============================] - 1s 14ms/step - loss: 6.0033e-04 - val_loss: 3.3096e-04\n",
            "Epoch 91/100\n",
            "81/81 [==============================] - 2s 20ms/step - loss: 6.0652e-04 - val_loss: 1.5530e-04\n",
            "Epoch 92/100\n",
            "81/81 [==============================] - 1s 18ms/step - loss: 6.6684e-04 - val_loss: 6.7104e-04\n",
            "Epoch 93/100\n",
            "81/81 [==============================] - 1s 14ms/step - loss: 6.2494e-04 - val_loss: 1.6452e-04\n",
            "Epoch 94/100\n",
            "81/81 [==============================] - 1s 11ms/step - loss: 6.5233e-04 - val_loss: 1.5214e-04\n",
            "Epoch 95/100\n",
            "81/81 [==============================] - 1s 10ms/step - loss: 5.9641e-04 - val_loss: 1.8939e-04\n",
            "Epoch 96/100\n",
            "81/81 [==============================] - 1s 10ms/step - loss: 6.5669e-04 - val_loss: 1.7593e-04\n",
            "Epoch 97/100\n",
            "81/81 [==============================] - 1s 9ms/step - loss: 7.1298e-04 - val_loss: 1.5095e-04\n",
            "Epoch 98/100\n",
            "81/81 [==============================] - 1s 10ms/step - loss: 5.9627e-04 - val_loss: 1.4944e-04\n",
            "Epoch 99/100\n",
            "81/81 [==============================] - 1s 9ms/step - loss: 6.3178e-04 - val_loss: 1.5302e-04\n",
            "Epoch 100/100\n",
            "81/81 [==============================] - 1s 10ms/step - loss: 6.0203e-04 - val_loss: 3.1630e-04\n"
          ]
        }
      ]
    },
    {
      "cell_type": "markdown",
      "source": [
        "La validación está baja porque los valores están entre 0 y 1, pero no hay que fiarse, vamos a revisar las predicciones"
      ],
      "metadata": {
        "id": "bgiTd9TvETOq"
      }
    },
    {
      "cell_type": "markdown",
      "source": [
        "## Análisis de resultados"
      ],
      "metadata": {
        "id": "PuMp3m48FgWq"
      }
    },
    {
      "cell_type": "markdown",
      "source": [
        "Hagamos las predicciones para analizarlas"
      ],
      "metadata": {
        "id": "-vzkW2IIFjtv"
      }
    },
    {
      "cell_type": "code",
      "source": [
        "# Obtenemos las predicciones de pruebas y entrenamiento\n",
        "train_predictions = model.predict(X_train)\n",
        "test_predictions = model.predict(X_test)"
      ],
      "metadata": {
        "colab": {
          "base_uri": "https://localhost:8080/"
        },
        "id": "uPDDs2Rz7vEh",
        "outputId": "79471b1b-3be9-4fe7-db83-d8c24409ff6e"
      },
      "execution_count": null,
      "outputs": [
        {
          "output_type": "stream",
          "name": "stdout",
          "text": [
            "81/81 [==============================] - 1s 4ms/step\n",
            "21/21 [==============================] - 0s 4ms/step\n"
          ]
        }
      ]
    },
    {
      "cell_type": "markdown",
      "source": [
        "Pero espera, estas predicciones están transformadas por el `scaler`, necesitamos reescalarlas."
      ],
      "metadata": {
        "id": "CHYv_RcmEoTc"
      }
    },
    {
      "cell_type": "code",
      "source": [
        "# Reescalamos para obtener los valores en la magnitud original\n",
        "train_predictions = scaler.inverse_transform(train_predictions)\n",
        "test_predictions = scaler.inverse_transform(test_predictions)"
      ],
      "metadata": {
        "id": "bDcLt1PN725U"
      },
      "execution_count": null,
      "outputs": []
    },
    {
      "cell_type": "markdown",
      "source": [
        "Perfecto, ahora vamos a poner las predicciones contra el valor actual en un gráfico para revisar fielmente la diferencia entre los valores predecidos y los esperados"
      ],
      "metadata": {
        "id": "wtay2oWfE5Jk"
      }
    },
    {
      "cell_type": "code",
      "source": [
        "import matplotlib.pyplot as plt\n",
        "\n",
        "plt.figure(figsize=(14, 8))\n",
        "plt.plot(df.index, df['Close'], label='Precio al cierre del día')\n",
        "plt.plot(df.index[look_back:training_data_len], train_predictions, label='Predicciones de entrenamiento')\n",
        "plt.plot(df.index[training_data_len:], test_predictions, label='Predicciones de prueba')\n",
        "\n",
        "plt.title(f'Precio de Bitcoin desde {from_date} hasta {to_date} con predicciones')\n",
        "plt.xlabel('Fecha')\n",
        "plt.ylabel('Precio (USD)')\n",
        "plt.legend()\n",
        "plt.show()\n"
      ],
      "metadata": {
        "colab": {
          "base_uri": "https://localhost:8080/",
          "height": 718
        },
        "id": "joajXKzi9PCe",
        "outputId": "817cff04-d740-441c-8bdb-8cef68bf4de1"
      },
      "execution_count": null,
      "outputs": [
        {
          "output_type": "display_data",
          "data": {
            "text/plain": [
              "<Figure size 1400x800 with 1 Axes>"
            ],
            "image/png": "[encoded data removed]"
          },
          "metadata": {}
        }
      ]
    },
    {
      "cell_type": "markdown",
      "source": [
        "Como vemos, en azul (casi imperceptible) se ve los valores que se esperaban, en naranja las predicciones de entrenamiento, y en verde las predicciones de prueba. Parece que el modelo es bastante bueno prediciendo el precio de cierre basado en los 60 días anteriores."
      ],
      "metadata": {
        "id": "_iYaIlMPFJvE"
      }
    },
    {
      "cell_type": "markdown",
      "source": [
        "## Despliegue"
      ],
      "metadata": {
        "id": "trWYMl-TFpj9"
      }
    },
    {
      "cell_type": "markdown",
      "source": [
        "Obviamente predecir en datos pasados es aburrido, ¿cómo podríamos usar este modelo para predecir el precio a final de mes?, por ejemplo.\n",
        "\n",
        "Vamos a tomar los valores de febero a mayo de 2024."
      ],
      "metadata": {
        "id": "2yXCuJysFrGQ"
      }
    },
    {
      "cell_type": "code",
      "source": [
        "data_today = yf.download('BTC-USD', start='2024-02-01', end='2024-05-18')\n",
        "data_today = data_today[['Close']].values\n",
        "data_today_scaled = scaler.transform(data_today)"
      ],
      "metadata": {
        "colab": {
          "base_uri": "https://localhost:8080/"
        },
        "id": "2Nm8I-DxD-RZ",
        "outputId": "cdd1f160-4b88-4c63-c302-996f965b5c03"
      },
      "execution_count": null,
      "outputs": [
        {
          "output_type": "stream",
          "name": "stderr",
          "text": [
            "\r[*********************100%%**********************]  1 of 1 completed\n"
          ]
        }
      ]
    },
    {
      "cell_type": "markdown",
      "source": [
        "Ya los tomamos y escalamos, creemos una función para calcular el precio dada una secuencia"
      ],
      "metadata": {
        "id": "K2PTLCFxGJqS"
      }
    },
    {
      "cell_type": "code",
      "source": [
        "def predict_next_price(model, data, sequence_length, transform = True):\n",
        "    # Tomamos los últimos `sequence_length` elementos\n",
        "    last_sequence = data[-sequence_length:]\n",
        "    # Convertimos a dimensiones aceptables para el modelo\n",
        "    last_sequence = np.reshape(last_sequence, (1, sequence_length, 1))\n",
        "    # Predecimos el precio\n",
        "    next_price = model.predict(last_sequence)\n",
        "    if transform:\n",
        "      # Si queremos obtener el precio en USD transformamos\n",
        "      next_price = scaler.inverse_transform(next_price)\n",
        "    return next_price[0, 0]"
      ],
      "metadata": {
        "id": "EjxufFxaEmUF"
      },
      "execution_count": null,
      "outputs": []
    },
    {
      "cell_type": "markdown",
      "source": [
        "Probemos que funcione"
      ],
      "metadata": {
        "id": "cKfpmXh1GoK7"
      }
    },
    {
      "cell_type": "code",
      "source": [
        "predict_next_price(model, data_today_scaled, 60)"
      ],
      "metadata": {
        "colab": {
          "base_uri": "https://localhost:8080/"
        },
        "id": "O6SFybazFXQZ",
        "outputId": "36a5d3bc-9c1b-4db7-cc8f-0e00d113ea63"
      },
      "execution_count": null,
      "outputs": [
        {
          "output_type": "stream",
          "name": "stdout",
          "text": [
            "1/1 [==============================] - 0s 21ms/step\n"
          ]
        },
        {
          "output_type": "execute_result",
          "data": {
            "text/plain": [
              "67014.37"
            ]
          },
          "metadata": {},
          "execution_count": 38
        }
      ]
    },
    {
      "cell_type": "markdown",
      "source": [
        "Bitcoin va a valer ~67014 USD al terminar el 19 de mayo, y considerando que el precio anterior estaba en ~66923 parecía una opción para comprar. No obstante hubo una caída de casi 500USD de valoración (casi -1%) en ese día, por lo que hubiésemos perdido mucha plata si realizamos pérdidas."
      ],
      "metadata": {
        "id": "4inggKOIGsFF"
      }
    },
    {
      "cell_type": "markdown",
      "source": [
        "Vale, para un día no es raro que pueda haber errores, pero qué hay de a largo plazo. ¿Cuánto valdrá bitcoin a mediados de junio según nuestro modelo?"
      ],
      "metadata": {
        "id": "KjtUcPT8IVOJ"
      }
    },
    {
      "cell_type": "code",
      "source": [
        "import numpy as np\n",
        "data_today_scaled_copy = data_today_scaled.copy()\n",
        "for i in range(30):\n",
        "  next_price = predict_next_price(model, data_today_scaled_copy, 60, transform=False)\n",
        "  data_today_scaled_copy = np.append(data_today_scaled_copy, next_price)\n",
        "\n",
        "print(predict_next_price(model, data_today_scaled_copy, 60))"
      ],
      "metadata": {
        "colab": {
          "base_uri": "https://localhost:8080/"
        },
        "id": "jZ_axxYuKO43",
        "outputId": "a90628bf-56cb-4c89-c246-6bb95cb5a57c"
      },
      "execution_count": null,
      "outputs": [
        {
          "output_type": "stream",
          "name": "stdout",
          "text": [
            "1/1 [==============================] - 0s 35ms/step\n",
            "1/1 [==============================] - 0s 44ms/step\n",
            "1/1 [==============================] - 0s 31ms/step\n",
            "1/1 [==============================] - 0s 42ms/step\n",
            "1/1 [==============================] - 0s 99ms/step\n",
            "1/1 [==============================] - 0s 95ms/step\n",
            "1/1 [==============================] - 0s 40ms/step\n",
            "1/1 [==============================] - 0s 38ms/step\n",
            "1/1 [==============================] - 0s 76ms/step\n",
            "1/1 [==============================] - 0s 41ms/step\n",
            "1/1 [==============================] - 0s 30ms/step\n",
            "1/1 [==============================] - 0s 75ms/step\n",
            "1/1 [==============================] - 0s 56ms/step\n",
            "1/1 [==============================] - 0s 26ms/step\n",
            "1/1 [==============================] - 0s 20ms/step\n",
            "1/1 [==============================] - 0s 19ms/step\n",
            "1/1 [==============================] - 0s 19ms/step\n",
            "1/1 [==============================] - 0s 20ms/step\n",
            "1/1 [==============================] - 0s 20ms/step\n",
            "1/1 [==============================] - 0s 23ms/step\n",
            "1/1 [==============================] - 0s 19ms/step\n",
            "1/1 [==============================] - 0s 19ms/step\n",
            "1/1 [==============================] - 0s 19ms/step\n",
            "1/1 [==============================] - 0s 19ms/step\n",
            "1/1 [==============================] - 0s 18ms/step\n",
            "1/1 [==============================] - 0s 19ms/step\n",
            "1/1 [==============================] - 0s 19ms/step\n",
            "1/1 [==============================] - 0s 21ms/step\n",
            "1/1 [==============================] - 0s 22ms/step\n",
            "1/1 [==============================] - 0s 23ms/step\n",
            "1/1 [==============================] - 0s 21ms/step\n",
            "72629.74\n"
          ]
        }
      ]
    },
    {
      "cell_type": "markdown",
      "source": [
        "72629 USD, claramente nuestro modelo es demasiado optimista, pero quién sabe, a lo mejor tiene razón."
      ],
      "metadata": {
        "id": "DwHj2j03Il9A"
      }
    },
    {
      "cell_type": "markdown",
      "source": [
        "# Conclusiones\n",
        "\n",
        "Las LSTM son muy fuertes para ajustarse a series de tiempo y secuencias de datos, pero su fiabilidad es bastante cuestionable.\n",
        "\n",
        "Es posible que para estos casos modelos comunes de investigación de operaciones y programación lineal sean más fiables para datos de los que se sepa fielmente las features.\n",
        "\n",
        "Los modelos por su parte, son capaces de extraer features por su cuenta, así que pueden ser buenos modelos para crear hipótesis y descubrir factores que afectan el comportamiento de una secuencia."
      ],
      "metadata": {
        "id": "SZHih17WI1Lm"
      }
    },
    {
      "cell_type": "markdown",
      "source": [
        "# Tu turno\n",
        "\n",
        "Nosotros usamos la LSTM para predecir el precio en un mes, pero no tenemos forma de saberlo hasta que llegue. ¿Qué tal probar con los valores pasados y ver si de verdad este modelo es de fiar?\n",
        "\n",
        "Por otro lado usamos una LSTM, pero ¿por qué no pruebas usar una GRU?, en teoría a estas no les importa tanto el pasado como las LSTM por lo que para rangos cortos de tiempo parece ideal."
      ],
      "metadata": {
        "id": "BHmjHXarJdTI"
      }
    }
  ]
}